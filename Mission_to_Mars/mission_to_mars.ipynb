{
 "cells": [
  {
   "cell_type": "code",
   "execution_count": 9,
   "id": "mexican-brazil",
   "metadata": {},
   "outputs": [],
   "source": [
    "# import dependencies\n",
    "from bs4 import BeautifulSoup as bs\n",
    "import pandas as pd\n",
    "from splinter import Browser\n",
    "import requests"
   ]
  },
  {
   "cell_type": "code",
   "execution_count": 18,
   "id": "suited-sociology",
   "metadata": {},
   "outputs": [],
   "source": [
    "# Read HTML from website and create a Beautiful Soup object\n",
    "url = \"https://mars.nasa.gov/news/?page=0&per_page=40&order=publish_date+desc%2Ccreated_at+desc&search=&category=19%2C165%2C184%2C204&blank_scope=Latest\"\n",
    "html = requests.get(url).text\n",
    "soup = bs(html, 'html.parser')"
   ]
  },
  {
   "cell_type": "code",
   "execution_count": 41,
   "id": "biological-twins",
   "metadata": {},
   "outputs": [],
   "source": [
    "# Scrape the NASA Mars News Site and collect the latest News Title and Paragraph Text.\n",
    "results = soup.find_all('div', class_=\"content_title\").text\n",
    "# for result in results:\n",
    "#     try:\n",
    "#         title = result.find('a', target_=\"_self\").text\n",
    "#         paragraph = result.find('div', class_=\"article_teaser_body\").text\n",
    "        \n",
    "#         if (title and paragraph):\n",
    "#             print(title)\n",
    "#             print(paragraph)\n",
    "            \n",
    "#     except AttributeError as e:\n",
    "#         print('-------------')\n",
    "#         print(e)\n",
    "            "
   ]
  },
  {
   "cell_type": "code",
   "execution_count": null,
   "id": "supreme-tuner",
   "metadata": {},
   "outputs": [],
   "source": [
    "# Assign the text to variables that you can reference later."
   ]
  }
 ],
 "metadata": {
  "kernelspec": {
   "display_name": "Python 3",
   "language": "python",
   "name": "python3"
  },
  "language_info": {
   "codemirror_mode": {
    "name": "ipython",
    "version": 3
   },
   "file_extension": ".py",
   "mimetype": "text/x-python",
   "name": "python",
   "nbconvert_exporter": "python",
   "pygments_lexer": "ipython3",
   "version": "3.6.10"
  }
 },
 "nbformat": 4,
 "nbformat_minor": 5
}
